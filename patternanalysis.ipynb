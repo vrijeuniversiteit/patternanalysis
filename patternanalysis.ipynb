{
  "nbformat": 4,
  "nbformat_minor": 0,
  "metadata": {
    "colab": {
      "provenance": [],
      "authorship_tag": "ABX9TyPHDtznEqc5MtymdlI/vCSp",
      "include_colab_link": true
    },
    "kernelspec": {
      "name": "python3",
      "display_name": "Python 3"
    },
    "language_info": {
      "name": "python"
    }
  },
  "cells": [
    {
      "cell_type": "markdown",
      "metadata": {
        "id": "view-in-github",
        "colab_type": "text"
      },
      "source": [
        "<a href=\"https://colab.research.google.com/github/vrijeuniversiteit/patternanalysis/blob/main/patternanalysis.ipynb\" target=\"_parent\"><img src=\"https://colab.research.google.com/assets/colab-badge.svg\" alt=\"Open In Colab\"/></a>"
      ]
    },
    {
      "cell_type": "markdown",
      "source": [
        "**Pattern Analysis for Journal club**\n",
        "\n",
        "The following code snippets are implementations for the methods discussed in /  `2021 Lounis, Peysakhovich & Causse`"
      ],
      "metadata": {
        "id": "oEWldq494HMq"
      }
    },
    {
      "cell_type": "code",
      "source": [
        "# Installing the package to get access to the methods\n",
        "%%capture\n",
        "!pip install git+https://github.com/vrijeuniversiteit/patternanalysis.git"
      ],
      "metadata": {
        "id": "ycnztz1W3kmL"
      },
      "execution_count": 3,
      "outputs": []
    },
    {
      "cell_type": "markdown",
      "source": [
        "Entropy can be calculated on timeseries data, either by looking at all elements in the timeseries sequence, or by analysing only the transitions"
      ],
      "metadata": {
        "id": "DntBuNK43hLt"
      }
    },
    {
      "cell_type": "code",
      "source": [
        "from patternanalysis import entropy, entropy_between_transitions, maximal_entropy\n",
        "\n",
        "data = [0, 1, 0, 0, 0, 3, 2, 0, 3]\n",
        "print(f\"Entropy: {entropy(data)}\")\n",
        "print(f\"Entropy between transitions: {entropy_between_transitions(data)}\")\n",
        "print(f\"Maximal possible entropy: {maximal_entropy(data)}\")"
      ],
      "metadata": {
        "colab": {
          "base_uri": "https://localhost:8080/"
        },
        "id": "Ce3RQMrK4rvZ",
        "outputId": "0944d710-6b20-401a-8bdb-53f73089b5c4"
      },
      "execution_count": 4,
      "outputs": [
        {
          "output_type": "stream",
          "name": "stdout",
          "text": [
            "Entropy: 1.66\n",
            "Entropy between transitions: 1.92\n",
            "Maximal possible entropy: 2.0\n"
          ]
        }
      ]
    },
    {
      "cell_type": "markdown",
      "source": [
        "The transition probability matrix displays the probabilities between all possible state changes in the data"
      ],
      "metadata": {
        "id": "1rdKx19H45OX"
      }
    },
    {
      "cell_type": "code",
      "source": [
        "from patternanalysis import transition_probability_matrix\n",
        "\n",
        "data = [0, 1, 0, 3, 2, 3, 1, 2, 0, 3]\n",
        "print(transition_probability_matrix(data))"
      ],
      "metadata": {
        "colab": {
          "base_uri": "https://localhost:8080/"
        },
        "id": "Y2Rezpo54-a1",
        "outputId": "b5f9ad1d-1f0e-4b43-ac55-64d4456c8e79"
      },
      "execution_count": 7,
      "outputs": [
        {
          "output_type": "stream",
          "name": "stdout",
          "text": [
            "╒══════════════╤══════════════╤══════════════╤══════════════╤══════════════╕\n",
            "│              │   To State 0 │   To State 1 │   To State 2 │   To State 3 │\n",
            "╞══════════════╪══════════════╪══════════════╪══════════════╪══════════════╡\n",
            "│ From State 0 │          0   │     0.333333 │          0   │     0.666667 │\n",
            "├──────────────┼──────────────┼──────────────┼──────────────┼──────────────┤\n",
            "│ From State 1 │          0.5 │     0        │          0.5 │     0        │\n",
            "├──────────────┼──────────────┼──────────────┼──────────────┼──────────────┤\n",
            "│ From State 2 │          0.5 │     0        │          0   │     0.5      │\n",
            "├──────────────┼──────────────┼──────────────┼──────────────┼──────────────┤\n",
            "│ From State 3 │          0   │     0.5      │          0.5 │     0        │\n",
            "╘══════════════╧══════════════╧══════════════╧══════════════╧══════════════╛\n"
          ]
        }
      ]
    },
    {
      "cell_type": "markdown",
      "source": [
        "The transition density matrix is a simple calculation performed on top of the probability matrix"
      ],
      "metadata": {
        "id": "tdKZuoRv5NVr"
      }
    },
    {
      "cell_type": "code",
      "source": [
        "from patternanalysis import transition_density_matrix\n",
        "\n",
        "data = [0, 1, 0, 3, 2, 3, 1, 2, 0, 3]\n",
        "print(f\"Transition density matrix: {transition_density_matrix(data)}\")"
      ],
      "metadata": {
        "colab": {
          "base_uri": "https://localhost:8080/"
        },
        "id": "f2b77wuv5T21",
        "outputId": "434182f6-ec63-42f7-a4dc-88e23e188d71"
      },
      "execution_count": 8,
      "outputs": [
        {
          "output_type": "stream",
          "name": "stdout",
          "text": [
            "Transition density matrix: Number of active transition cells: 24\n",
            "Total number of cells: 25\n",
            "Single Quantitative value: 0.96\n",
            "\n"
          ]
        }
      ]
    },
    {
      "cell_type": "markdown",
      "source": [
        "N Grams gives a neat measure how frequent certain transitions between patterns occur"
      ],
      "metadata": {
        "id": "7YccKF2D5aDx"
      }
    },
    {
      "cell_type": "code",
      "source": [
        "from patternanalysis import ngrams\n",
        "\n",
        "data = [0, 1, 0, 3, 2, 0, 3]\n",
        "number_grams = 2\n",
        "print(ngrams(data, number_grams))"
      ],
      "metadata": {
        "colab": {
          "base_uri": "https://localhost:8080/"
        },
        "id": "sS70vqQg5iN_",
        "outputId": "8e0ab32c-1d6b-4cba-d783-d535daa14ad3"
      },
      "execution_count": 9,
      "outputs": [
        {
          "output_type": "stream",
          "name": "stdout",
          "text": [
            "╒══════════╤═════════╕\n",
            "│ 2-gram   │   Count │\n",
            "╞══════════╪═════════╡\n",
            "│ (0, 1)   │       1 │\n",
            "├──────────┼─────────┤\n",
            "│ (1, 0)   │       1 │\n",
            "├──────────┼─────────┤\n",
            "│ (0, 3)   │       2 │\n",
            "├──────────┼─────────┤\n",
            "│ (3, 2)   │       1 │\n",
            "├──────────┼─────────┤\n",
            "│ (2, 0)   │       1 │\n",
            "╘══════════╧═════════╛\n"
          ]
        }
      ]
    }
  ]
}